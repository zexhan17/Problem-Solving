{
 "cells": [
  {
   "cell_type": "code",
   "execution_count": 1,
   "id": "orange-prime",
   "metadata": {},
   "outputs": [],
   "source": [
    "def find_comulative_marks(l):\n",
    "    # base case if empty list sent\n",
    "    if l == []:\n",
    "        return []\n",
    "    \n",
    "    ret = []\n",
    "    # getting tuples from list\n",
    "    for t in l:\n",
    "        \n",
    "        sum = 0\n",
    "        # getting elements from tuple, above index 1\n",
    "        for ele in t[2:]:\n",
    "            if ele != None:   # rejecting None\n",
    "                sum += ele # adding scors\n",
    "\n",
    "        ret.append( ( t[0], t[1], sum) )  # appending each tuple\n",
    "        \n",
    "    return ret"
   ]
  },
  {
   "cell_type": "code",
   "execution_count": 2,
   "id": "cellular-boston",
   "metadata": {},
   "outputs": [],
   "source": [
    "results = [\n",
    "('p101111', 'Ali Khayam', 64, 78.5, 89, 25, 99),\n",
    "('p101112', 'Mudasser Farooq', 14, 28.5, 83, 76),\n",
    "('p101113', 'Tamleek Ali', 87, None, 1.6)\n",
    "]"
   ]
  },
  {
   "cell_type": "code",
   "execution_count": 3,
   "id": "corrected-democracy",
   "metadata": {},
   "outputs": [
    {
     "data": {
      "text/plain": [
       "[('p101111', 'Ali Khayam', 355.5),\n",
       " ('p101112', 'Mudasser Farooq', 201.5),\n",
       " ('p101113', 'Tamleek Ali', 88.6)]"
      ]
     },
     "execution_count": 3,
     "metadata": {},
     "output_type": "execute_result"
    }
   ],
   "source": [
    "find_comulative_marks(results)"
   ]
  },
  {
   "cell_type": "code",
   "execution_count": 4,
   "id": "about-foundation",
   "metadata": {},
   "outputs": [],
   "source": [
    "def find_top_student(l):\n",
    "    max = -1  # initialize with -1, maybe All students have zero marks \n",
    "    ret = []\n",
    "    \n",
    "    # 1st loop\n",
    "    for x in find_comulative_marks(l): # get tuple one by one\n",
    "        if x[2] > max:   # comparing marks\n",
    "            max = x[2]   # set new max\n",
    "    \n",
    "    # 2nd Loop\n",
    "    for x in l: # get tuple one by one\n",
    "        if x[2] == max:   # collecting all top students marks\n",
    "                ret.append(x[:2]) # appending top students to list\n",
    "            \n",
    "    return ret"
   ]
  },
  {
   "cell_type": "code",
   "execution_count": 5,
   "id": "printable-dragon",
   "metadata": {},
   "outputs": [
    {
     "data": {
      "text/plain": [
       "[('p101111', 'Ali Khayam')]"
      ]
     },
     "execution_count": 5,
     "metadata": {},
     "output_type": "execute_result"
    }
   ],
   "source": [
    "find_top_student(results)"
   ]
  },
  {
   "cell_type": "code",
   "execution_count": null,
   "id": "consistent-narrative",
   "metadata": {},
   "outputs": [],
   "source": [
    "# make changes in results and try various Examples"
   ]
  }
 ],
 "metadata": {
  "kernelspec": {
   "display_name": "Python 3",
   "language": "python",
   "name": "python3"
  },
  "language_info": {
   "codemirror_mode": {
    "name": "ipython",
    "version": 3
   },
   "file_extension": ".py",
   "mimetype": "text/x-python",
   "name": "python",
   "nbconvert_exporter": "python",
   "pygments_lexer": "ipython3",
   "version": "3.8.5"
  }
 },
 "nbformat": 4,
 "nbformat_minor": 5
}
