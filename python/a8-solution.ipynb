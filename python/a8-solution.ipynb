{
 "cells": [
  {
   "cell_type": "code",
   "execution_count": 1,
   "id": "continued-selling",
   "metadata": {},
   "outputs": [],
   "source": [
    "d = {\n",
    "\"articles\": [{\n",
    "\"slug\": \"how-to-train-your-mule\",\n",
    "\"title\": \"How to train your mule\",\n",
    "\"description\": \"Ever wonder how?\",\n",
    "\"body\": \"It takes a Jacobian\",\n",
    "\"tagList\": [\"mules\", \"training\"],\n",
    "\"createdAt\": \"2016-02-18T03:22:56.637Z\",\n",
    "\"updatedAt\": \"2016-02-18T03:48:35.824Z\",\n",
    "\"favoritesCount\": 0,\n",
    "\"author\": {\n",
    "\"username\": \"jake\",\n",
    "\"bio\": \"I work at statefarm\",\n",
    "\"following\": False\n",
    "}\n",
    "}, {\n",
    "\"slug\": \"and another article\",\n",
    "\"body\": \"I’m getting bored\",\n",
    "\"tagList\": [\"bored\", \"article\"],\n",
    "\"createdAt\": \"2016-02-18T03:22:56.637Z\",\n",
    "\"updatedAt\": \"2016-02-18T03:48:35.824Z\",\n",
    "\"favoritesCount\": 20,\n",
    "\"author\": {\n",
    "\"username\": \"cap\",\n",
    "\"following\": True\n",
    "}\n",
    "}],\n",
    "\"tweets\": [{\n",
    "\"body\": \"See my article on training mules.\",\n",
    "\"author\": {\n",
    "\"username\": \"jake\"\n",
    "}\n",
    "}]\n",
    "}"
   ]
  },
  {
   "cell_type": "code",
   "execution_count": 2,
   "id": "agricultural-steel",
   "metadata": {},
   "outputs": [],
   "source": [
    "def get_types(dic):\n",
    "    return list(dic.keys())"
   ]
  },
  {
   "cell_type": "code",
   "execution_count": 3,
   "id": "major-brook",
   "metadata": {},
   "outputs": [
    {
     "data": {
      "text/plain": [
       "['articles', 'tweets']"
      ]
     },
     "execution_count": 3,
     "metadata": {},
     "output_type": "execute_result"
    }
   ],
   "source": [
    "get_types(d)"
   ]
  },
  {
   "cell_type": "code",
   "execution_count": 4,
   "id": "progressive-completion",
   "metadata": {},
   "outputs": [],
   "source": [
    "def get_types_counts(dic):\n",
    "    ret = {}\n",
    "    l = get_types(dic) # get keys in list\n",
    "    for k in l:\n",
    "        lenght_0f_dic_value = len(dic[k]) # calculating lenght of 'value' of given 'key'\n",
    "        ret[k] = lenght_0f_dic_value # adding items in dictionary to return it\n",
    "        \n",
    "    return ret"
   ]
  },
  {
   "cell_type": "code",
   "execution_count": 5,
   "id": "necessary-doctor",
   "metadata": {},
   "outputs": [
    {
     "data": {
      "text/plain": [
       "{'articles': 2, 'tweets': 1}"
      ]
     },
     "execution_count": 5,
     "metadata": {},
     "output_type": "execute_result"
    }
   ],
   "source": [
    "get_types_counts(d)"
   ]
  },
  {
   "cell_type": "code",
   "execution_count": 6,
   "id": "comfortable-latest",
   "metadata": {},
   "outputs": [],
   "source": [
    "def get_author_count(dic, auth_name, lst=None):\n",
    "    \n",
    "    count = 0\n",
    "    \n",
    "    if lst is None:\n",
    "        lst = get_types(dic) # if no key was send\n",
    "    \n",
    "    for k in lst:  # getting 'keys' from list\n",
    "        \n",
    "        #print(d[k][0]['author']['username'] )\n",
    "        if dic[k][0]['author']['username'] == auth_name: # matching author's name \n",
    "            count += 1 # if yes then increment\n",
    "            #print(auth_name)\n",
    "    \n",
    "        if len(dic[k]) == 2:\n",
    "            #print(d[k][1]['author']['username'] )\n",
    "            if dic[k][1]['author']['username'] == auth_name:\n",
    "                #print(auth_name)\n",
    "                count += 1\n",
    "                \n",
    "    return count"
   ]
  },
  {
   "cell_type": "code",
   "execution_count": 7,
   "id": "hindu-dominican",
   "metadata": {},
   "outputs": [
    {
     "data": {
      "text/plain": [
       "2"
      ]
     },
     "execution_count": 7,
     "metadata": {},
     "output_type": "execute_result"
    }
   ],
   "source": [
    "get_author_count(d, 'jake')"
   ]
  },
  {
   "cell_type": "code",
   "execution_count": 8,
   "id": "contained-publication",
   "metadata": {},
   "outputs": [
    {
     "data": {
      "text/plain": [
       "1"
      ]
     },
     "execution_count": 8,
     "metadata": {},
     "output_type": "execute_result"
    }
   ],
   "source": [
    "get_author_count(d, 'cap')"
   ]
  },
  {
   "cell_type": "code",
   "execution_count": 9,
   "id": "embedded-population",
   "metadata": {},
   "outputs": [
    {
     "data": {
      "text/plain": [
       "1"
      ]
     },
     "execution_count": 9,
     "metadata": {},
     "output_type": "execute_result"
    }
   ],
   "source": [
    "get_author_count(d, 'jake', ['articles'])"
   ]
  },
  {
   "cell_type": "code",
   "execution_count": 10,
   "id": "flexible-sequence",
   "metadata": {},
   "outputs": [
    {
     "data": {
      "text/plain": [
       "1"
      ]
     },
     "execution_count": 10,
     "metadata": {},
     "output_type": "execute_result"
    }
   ],
   "source": [
    "get_author_count(d, 'jake', ['tweets'])"
   ]
  },
  {
   "cell_type": "code",
   "execution_count": 11,
   "id": "useful-legislation",
   "metadata": {},
   "outputs": [
    {
     "data": {
      "text/plain": [
       "2"
      ]
     },
     "execution_count": 11,
     "metadata": {},
     "output_type": "execute_result"
    }
   ],
   "source": [
    "get_author_count(d, 'jake', ['articles', 'tweets'])"
   ]
  },
  {
   "cell_type": "code",
   "execution_count": 12,
   "id": "premier-compact",
   "metadata": {},
   "outputs": [
    {
     "data": {
      "text/plain": [
       "1"
      ]
     },
     "execution_count": 12,
     "metadata": {},
     "output_type": "execute_result"
    }
   ],
   "source": [
    "get_author_count(d, 'cap', ['articles', 'tweets'])"
   ]
  }
 ],
 "metadata": {
  "kernelspec": {
   "display_name": "Python 3",
   "language": "python",
   "name": "python3"
  },
  "language_info": {
   "codemirror_mode": {
    "name": "ipython",
    "version": 3
   },
   "file_extension": ".py",
   "mimetype": "text/x-python",
   "name": "python",
   "nbconvert_exporter": "python",
   "pygments_lexer": "ipython3",
   "version": "3.8.5"
  }
 },
 "nbformat": 4,
 "nbformat_minor": 5
}
