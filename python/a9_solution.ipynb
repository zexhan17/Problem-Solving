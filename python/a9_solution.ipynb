{
 "cells": [
  {
   "cell_type": "code",
   "execution_count": 1,
   "id": "comparative-final",
   "metadata": {},
   "outputs": [
    {
     "name": "stdout",
     "output_type": "stream",
     "text": [
      "3 6 5 2 9 8 7 4 1 \n"
     ]
    }
   ],
   "source": [
    "# Python3 program to print a matrix\n",
    "# in spiral form.\n",
    "MAX = 100\n",
    "\n",
    "def printSpiral(mat, r, c):\n",
    "\n",
    "\ta = 0\n",
    "\tb = 2\n",
    "\n",
    "\tlow_row = 0 if (0 > a) else a\n",
    "\tlow_column = 0 if (0 > b) else b - 1\n",
    "\thigh_row = r-1 if ((a + 1) >= r) else a + 1\n",
    "\thigh_column = c-1 if ((b + 1) >= c) else b + 1\n",
    "\n",
    "\twhile ((low_row > 0 - r and low_column > 0 - c)):\n",
    "\n",
    "\t\ti = low_column + 1\n",
    "\t\twhile (i <= high_column and\n",
    "\t\t\ti < c and low_row >= 0):\n",
    "\t\t\tprint( mat[low_row][i], end = \" \")\n",
    "\t\t\ti += 1\n",
    "\t\tlow_row -= 1\n",
    "\n",
    "\t\ti = low_row + 2\n",
    "\t\twhile (i <= high_row and\n",
    "\t\t\ti < r and high_column < c):\n",
    "\t\t\tprint(mat[i][high_column], end = \" \")\n",
    "\t\t\ti += 1\n",
    "\t\thigh_column += 1\n",
    "\n",
    "\t\ti = high_column - 2\n",
    "\t\twhile (i >= low_column and\n",
    "\t\t\ti >= 0 and high_row < r):\n",
    "\t\t\tprint(mat[high_row][i], end = \" \")\n",
    "\t\t\ti -= 1\n",
    "\t\thigh_row += 1\n",
    "\n",
    "\t\ti = high_row - 2\n",
    "\t\twhile (i > low_row and\n",
    "\t\t\ti >= 0 and low_column >= 0):\n",
    "\t\t\tprint(mat[i][low_column], end = \" \")\n",
    "\t\t\ti -= 1\n",
    "\t\tlow_column -= 1\n",
    "\t\n",
    "\tprint()\n",
    "\n",
    "# Driver code\n",
    "if __name__ == \"__main__\":\n",
    "\t\n",
    "\tmat = [[ 1, 2, 3 ],\n",
    "\t\t[ 4, 5, 6 ],\n",
    "\t\t[ 7, 8, 9 ]]\n",
    "\tr = 3\n",
    "\tc = 3\n",
    "\tprintSpiral(mat, r, c)\n",
    "\n",
    "# This code is contributed by ita_c\n"
   ]
  },
  {
   "cell_type": "code",
   "execution_count": 2,
   "id": "wireless-emerald",
   "metadata": {},
   "outputs": [
    {
     "name": "stdout",
     "output_type": "stream",
     "text": [
      "1 2 3 4 5 6 7 8 9 10 11 12 13 14 15 16 "
     ]
    }
   ],
   "source": [
    "def spiralMatrixPrint(row, col, arr):\n",
    "    # Defining the boundaries of the matrix.\n",
    "    top = 0\n",
    "    bottom = row-1\n",
    "    left = 0\n",
    "    right = col - 1\n",
    "\n",
    "    # Defining the direction in which the array is to be traversed.\n",
    "    dir = 0\n",
    "    \n",
    "    while (top <= bottom and left <=right):    \n",
    "        if dir ==0:\n",
    "            for i in range(left,right+1): # moving left->right\n",
    "                print (arr[top][i], end=\" \")\n",
    "\n",
    "            # Since we have traversed the whole first\n",
    "            # row, move down to the next row.\n",
    "            top +=1\n",
    "            dir = 1\n",
    "\n",
    "        elif dir ==1:\n",
    "            for i in range(top,bottom+1): # moving top->bottom\n",
    "                print (arr[i][right], end=\" \")\n",
    "\n",
    "            # Since we have traversed the whole last\n",
    "            # column, move down to the previous column.\n",
    "            right -=1 \n",
    "            dir = 2\n",
    "            \n",
    "        elif dir ==2:\n",
    "            for i in range(right,left-1,-1): # moving right->left\n",
    "                print (arr[bottom][i], end=\" \")\n",
    "\n",
    "            # Since we have traversed the whole last\n",
    "            # row, move down to the previous row.\n",
    "            bottom -=1\n",
    "            dir = 3\n",
    "            \n",
    "        elif dir ==3:\n",
    "            for i in range(bottom,top-1,-1): # moving bottom->top\n",
    "                print (arr[i][left], end=\" \")\n",
    "            # Since we have traversed the whole first\n",
    "            # column, move down to the next column.\n",
    "            left +=1\n",
    "            dir = 0\n",
    "\n",
    "# Driver code\n",
    "# Change the following array and the corresponding row and\n",
    "# column arguments to test on some other input\n",
    "array = [[1,2,3,4],\n",
    "     [12,13,14,5],\n",
    "     [11,16,15,6],\n",
    "     [10,9,8,7]]\n",
    "\n",
    "spiralMatrixPrint(4, 4, array)"
   ]
  },
  {
   "cell_type": "code",
   "execution_count": null,
   "id": "violent-buffalo",
   "metadata": {},
   "outputs": [],
   "source": []
  }
 ],
 "metadata": {
  "kernelspec": {
   "display_name": "Python 3",
   "language": "python",
   "name": "python3"
  },
  "language_info": {
   "codemirror_mode": {
    "name": "ipython",
    "version": 3
   },
   "file_extension": ".py",
   "mimetype": "text/x-python",
   "name": "python",
   "nbconvert_exporter": "python",
   "pygments_lexer": "ipython3",
   "version": "3.8.5"
  }
 },
 "nbformat": 4,
 "nbformat_minor": 5
}
